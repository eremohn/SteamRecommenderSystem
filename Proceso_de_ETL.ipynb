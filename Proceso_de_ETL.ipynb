{
 "cells": [
  {
   "cell_type": "markdown",
   "metadata": {},
   "source": [
    "### Librerias "
   ]
  },
  {
   "cell_type": "code",
   "execution_count": null,
   "metadata": {},
   "outputs": [],
   "source": [
    "import pandas as pd\n",
    "import ast\n",
    "import json\n",
    "import csv\n",
    "from textblob import TextBlob\n",
    "from fastapi import FastAPI"
   ]
  },
  {
   "cell_type": "markdown",
   "metadata": {},
   "source": [
    "### Procesamiento de datos y conversión de JSON a CSV"
   ]
  },
  {
   "cell_type": "markdown",
   "metadata": {},
   "source": [
    "#### transformar el archivo 'user_reviews.json' a 'user_reviews.csv'"
   ]
  },
  {
   "cell_type": "code",
   "execution_count": null,
   "metadata": {},
   "outputs": [],
   "source": [
    "# función para corregir y cargar cada línea del archivo 'user_reviews.json' original\n",
    "def cargar_y_corregir_linea(linea):\n",
    "    # reemplaza las comillas simples con dobles y corrige valores booleanos\n",
    "    linea_corregida = linea.replace(\"'\", '\"').replace('True', 'true').replace('False', 'false')\n",
    "    return json.loads(linea_corregida)\n",
    "\n",
    "# crea y abre un archivo 'user_reviews.csv' para escribir los datos\n",
    "with open('user_reviews.csv', 'w', newline='', encoding='utf-8') as archivo_csv:\n",
    "    escritor_csv = csv.writer(archivo_csv)\n",
    "    # escribe la fila de encabezado\n",
    "    encabezado = ['user_id', 'user_url', 'funny', 'posted', 'last_edited', 'item_id', 'helpful', 'recommend', 'review']\n",
    "    escritor_csv.writerow(encabezado)\n",
    "    \n",
    "    # lee el archivo 'user_reviews.json' original, corrige y procesa cada línea\n",
    "    with open('user_reviews.json', 'r', encoding='utf-8') as archivo_json:\n",
    "        for linea in archivo_json:\n",
    "            try:\n",
    "                entrada = cargar_y_corregir_linea(linea)\n",
    "                user_id = entrada['user_id']\n",
    "                user_url = entrada['user_url']\n",
    "                # iteracion sobre cada review\n",
    "                for reseña in entrada['reviews']:\n",
    "                    escritor_csv.writerow([\n",
    "                        user_id,\n",
    "                        user_url,\n",
    "                        reseña.get('funny', ''),\n",
    "                        reseña.get('posted', ''),\n",
    "                        reseña.get('last_edited', ''),\n",
    "                        reseña.get('item_id', ''),\n",
    "                        reseña.get('helpful', ''),\n",
    "                        reseña.get('recommend', ''),\n",
    "                        reseña.get('review', '')  # asume que quieres mantener el texto original de la review\n",
    "                    ])\n",
    "            except json.JSONDecodeError as e:\n",
    "                print(f\"Error al procesar la línea: {e}\")\n",
    "\n",
    "print(\"Los datos han sido convertidos y guardados en 'user_reviews.csv'.\")\n"
   ]
  },
  {
   "cell_type": "markdown",
   "metadata": {},
   "source": [
    "#### transformar el archivo 'output_steam_games.json' a 'output_steam_games.csv'"
   ]
  },
  {
   "cell_type": "code",
   "execution_count": null,
   "metadata": {},
   "outputs": [],
   "source": [
    "# Lee el archivo JSON\n",
    "df = pd.read_json('output_steam_games.json', lines=True)\n",
    "\n",
    "# Elimina las filas vacías\n",
    "df = df.dropna(how='all')\n",
    "\n",
    "# Guarda el DataFrame en un archivo CSV\n",
    "df.to_csv('output_steam_games.csv', index=False)"
   ]
  },
  {
   "cell_type": "markdown",
   "metadata": {},
   "source": [
    "#### transformar el archivo 'australian_users_items.json' a 'australian_users_items.csv'"
   ]
  },
  {
   "cell_type": "code",
   "execution_count": null,
   "metadata": {},
   "outputs": [],
   "source": [
    "# función para corregir y cargar cada línea del archivo 'australian_users_items.json' original\n",
    "def cargar_y_corregir_linea(linea):\n",
    "    # reemplaza las comillas simples con dobles y corrige valores booleanos\n",
    "    linea_corregida = linea.replace(\"'\", '\"')\n",
    "    return json.loads(linea_corregida)\n",
    "\n",
    "# crea y abre un archivo 'australian_users_items.csv' para escribir los datos\n",
    "with open('australian_users_items.csv', 'w', newline='', encoding='utf-8') as archivo_csv:\n",
    "    writer = csv.writer(archivo_csv)\n",
    "    \n",
    "    # Escribir los nombres de las columnas\n",
    "    writer.writerow(['user_id', 'user_url', 'item_id', 'item_name', 'playtime_forever', 'playtime_2weeks'])\n",
    "    \n",
    "    # lee el archivo 'australian_users_items.json' original, corrige y procesa cada línea\n",
    "    with open('australian_users_items.json', 'r', encoding='utf-8') as archivo_json:\n",
    "        for linea in archivo_json:\n",
    "            try:\n",
    "                entrada = cargar_y_corregir_linea(linea)\n",
    "                user_id = entrada['user_id']\n",
    "                user_url = entrada['user_url']\n",
    "                # iteracion sobre cada items\n",
    "                for articulo in entrada['items']:\n",
    "                    writer.writerow([\n",
    "                        user_id,\n",
    "                        user_url,\n",
    "                        articulo.get('item_id', ''),\n",
    "                        articulo.get('item_name', ''),\n",
    "                        articulo.get('playtime_forever', ''),\n",
    "                        articulo.get('playtime_2weeks', ''),\n",
    "                    ])\n",
    "            except json.JSONDecodeError as e:\n",
    "                print(f\"Error al procesar la línea: {e}\")\n",
    "\n",
    "print(\"Los datos han sido convertidos y guardados en 'australian_users_items.csv'.\")\n"
   ]
  },
  {
   "cell_type": "markdown",
   "metadata": {},
   "source": [
    "### Análisis de sentimiento con NLP\n",
    "\n",
    "El dataset **User_Reviews** incluye reseñas de juegos hechas por distintos usuarios. Se crea la columna `sentiment_analysis` con la siguiente escala:\n",
    "\n",
    "- `0` si es una reseña negativa.\n",
    "- `1` si es neutral o hay ausencia de reseña.\n",
    "- `2` si es una reseña positiva.\n",
    "\n",
    "Esta nueva columna reemplazará la columna `review` para facilitar el trabajo de los modelos de machine learning y el análisis de datos.\n"
   ]
  },
  {
   "cell_type": "code",
   "execution_count": null,
   "metadata": {},
   "outputs": [],
   "source": [
    "# carga del archivo CSV\n",
    "df = pd.read_csv('user_reviews.csv')\n",
    "\n",
    "# función para analizar el sentimiento de la reseña\n",
    "def analyze_sentiment(review):\n",
    "    if pd.isna(review) or not isinstance(review, str):\n",
    "        return 1  # sentimiento neutral para reseñas faltantes o no legibles\n",
    "    else:\n",
    "        # se emplea TextBlob para calcular la polaridad del sentimiento\n",
    "        polarity = TextBlob(review).sentiment.polarity\n",
    "        if polarity < 0:\n",
    "            return 0  # sentimiento negativo\n",
    "        elif polarity == 0:\n",
    "            return 1  # sentimiento neutral\n",
    "        else:\n",
    "            return 2  # sentimiento positivo\n",
    "\n",
    "# aplica la función analyze_sentiment a cada reseña y crear la nueva columna 'sentiment_analysis'\n",
    "df['sentiment_analysis'] = df['review'].apply(analyze_sentiment)\n",
    "\n",
    "# elimina la columna original 'review'\n",
    "df.drop(columns=['review'], inplace=True)\n",
    "\n",
    "# guarda el DataFrame modificado en un nuevo archivo CSV\n",
    "df.to_csv('user_reviews.csv', index=False)\n",
    "\n",
    "print(\"El análisis de sentimiento ha sido aplicado y guardado en 'user_reviews.csv'.\")\n"
   ]
  },
  {
   "cell_type": "markdown",
   "metadata": {},
   "source": [
    "### Transformacion de los archivos CSV a Parquet"
   ]
  },
  {
   "cell_type": "code",
   "execution_count": null,
   "metadata": {},
   "outputs": [],
   "source": [
    "\n",
    "# Leer archivos CSV\n",
    "user_reviews_df = pd.read_csv('user_reviews.csv')\n",
    "steam_games_df = pd.read_csv('output_steam_games.csv')\n",
    "australian_users_df = pd.read_csv('australian_users_items.csv')\n",
    "\n",
    "# Escribir archivos Parquet\n",
    "user_reviews_df.to_parquet('user_reviews.parquet', index=False)\n",
    "steam_games_df.to_parquet('output_steam_games.parquet', index=False)\n",
    "australian_users_df.to_parquet('australian_users_items.parquet', index=False)\n",
    "\n",
    "print(\"Archivos transformados a formato Parquet exitosamente.\")"
   ]
  }
 ],
 "metadata": {
  "kernelspec": {
   "display_name": "Python 3",
   "language": "python",
   "name": "python3"
  },
  "language_info": {
   "codemirror_mode": {
    "name": "ipython",
    "version": 3
   },
   "file_extension": ".py",
   "mimetype": "text/x-python",
   "name": "python",
   "nbconvert_exporter": "python",
   "pygments_lexer": "ipython3",
   "version": "3.12.1"
  }
 },
 "nbformat": 4,
 "nbformat_minor": 2
}
